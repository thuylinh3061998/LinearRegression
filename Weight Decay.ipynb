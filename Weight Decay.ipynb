{
 "cells": [
  {
   "cell_type": "code",
   "execution_count": 8,
   "metadata": {},
   "outputs": [
    {
     "data": {
      "image/png": "[encoded data removed]",
      "text/plain": [
       "<Figure size 432x288 with 1 Axes>"
      ]
     },
     "metadata": {
      "needs_background": "light"
     },
     "output_type": "display_data"
    }
   ],
   "source": [
    "# To support both python 2 and python 3\n",
    "from __future__ import division, print_function, unicode_literals\n",
    "import math\n",
    "import numpy as np \n",
    "import matplotlib.pyplot as plt\n",
    "np.random.seed(4)\n",
    "\n",
    "means = [[-1, -1], [1, -1], [0, 1]]\n",
    "cov = [[1, 0], [0, 1]]\n",
    "N = 20\n",
    "X0 = np.random.multivariate_normal(means[0], cov, N)\n",
    "X1 = np.random.multivariate_normal(means[1], cov, N)\n",
    "X2 = np.random.multivariate_normal(means[2], cov, N)\n",
    "\n",
    "X = np.concatenate((X0, X1, X2), axis = 0)\n",
    "K = 3\n",
    "\n",
    "original_label = np.asarray([0]*N + [1]*N + [2]*N).T\n",
    "\n",
    "\n",
    "def kmeans_display(X, label):\n",
    "    K = np.amax(label) + 1\n",
    "    X0 = X[label == 0, :]\n",
    "    X1 = X[label == 1, :]\n",
    "    X2 = X[label == 2, :]\n",
    "    \n",
    "    plt.plot(X0[:, 0], X0[:, 1], 'b^', markersize = 6, alpha = .8)\n",
    "    plt.plot(X1[:, 0], X1[:, 1], 'go', markersize = 6, alpha = .8)\n",
    "    plt.plot(X2[:, 0], X2[:, 1], 'rs', markersize = 6, alpha = .8)\n",
    "\n",
    "#     plt.axis('equal')\n",
    "    plt.plot()\n",
    "#     plt.show()\n",
    "    \n",
    "kmeans_display(X, original_label)\n",
    "plt.show()\n",
    "y = original_label.T\n",
    "X = X.T"
   ]
  },
  {
   "cell_type": "code",
   "execution_count": 12,
   "metadata": {},
   "outputs": [
    {
     "name": "stdout",
     "output_type": "stream",
     "text": [
      "iter 0, loss: 1.098879\n",
      "iter 1000, loss: 0.327449\n",
      "iter 2000, loss: 0.394344\n",
      "iter 3000, loss: 0.342896\n",
      "iter 4000, loss: 0.349211\n",
      "iter 5000, loss: 0.328838\n",
      "iter 6000, loss: 0.308695\n",
      "iter 7000, loss: 0.302135\n",
      "iter 8000, loss: 0.296802\n",
      "iter 9000, loss: 0.307811\n",
      "training accuracy: 95.00 %\n",
      "(1, 89600)\n"
     ]
    },
    {
     "data": {
      "image/png": "[encoded data removed]",
      "text/plain": [
       "<Figure size 432x288 with 1 Axes>"
      ]
     },
     "metadata": {},
     "output_type": "display_data"
    },
    {
     "name": "stdout",
     "output_type": "stream",
     "text": [
      "iter 0, loss: 1.142643\n",
      "iter 1000, loss: 1.098612\n",
      "iter 2000, loss: 1.098612\n",
      "iter 3000, loss: 1.098612\n",
      "iter 4000, loss: 1.098612\n",
      "iter 5000, loss: 1.098612\n",
      "iter 6000, loss: 1.098612\n",
      "iter 7000, loss: 1.098612\n",
      "iter 8000, loss: 1.098612\n",
      "iter 9000, loss: 1.098612\n",
      "training accuracy: 33.33 %\n",
      "(1, 89600)\n"
     ]
    },
    {
     "data": {
      "image/png": "[encoded data removed]",
      "text/plain": [
       "<Figure size 432x288 with 1 Axes>"
      ]
     },
     "metadata": {},
     "output_type": "display_data"
    }
   ],
   "source": [
    "def softmax(V):\n",
    "    e_V = np.exp(V - np.max(V, axis = 0, keepdims = True))\n",
    "    Z = e_V / e_V.sum(axis = 0)\n",
    "    return Z\n",
    "\n",
    "## One-hot coding\n",
    "from scipy import sparse \n",
    "def convert_labels(y, C = 3):\n",
    "    Y = sparse.coo_matrix((np.ones_like(y), \n",
    "        (y, np.arange(len(y)))), shape = (C, len(y))).toarray()\n",
    "    return Y \n",
    "\n",
    "# cost or loss function  \n",
    "lam = 0.001 # regularization parameter \n",
    "def cost(Y, Yhat, W1, W2, lam):    \n",
    "    return -np.sum(Y*np.log(Yhat))/Y.shape[1] + \\\n",
    "        lam*(np.linalg.norm(W1)**2 + np.linalg.norm(W2)**2)\n",
    "\n",
    "d0 = 2\n",
    "d1 = h = 100 # size of hidden layer \n",
    "d2 = C = 3\n",
    "\n",
    "def mynet(lam):\n",
    "    # initialize parameters randomely \n",
    "    W1 = 0.01*np.random.randn(d0, d1)\n",
    "    b1 = np.zeros((d1, 1))\n",
    "    W2 = 0.01*np.random.randn(d1, d2)\n",
    "    b2 = np.zeros((d2, 1))\n",
    "\n",
    "    # X = X.T # each column of X is a data point \n",
    "    Y = convert_labels(y, C)\n",
    "    N = X.shape[1]\n",
    "    eta = 1 # learning rate \n",
    "    for i in range(10000):\n",
    "        ## Feedforward \n",
    "        Z1 = np.dot(W1.T, X) + b1 \n",
    "        A1 = np.maximum(Z1, 0)\n",
    "        Z2 = np.dot(W2.T, A1) + b2\n",
    "        # import pdb; pdb.set_trace()  # breakpoint 035ab9b5 //\n",
    "        Yhat = softmax(Z2)\n",
    "\n",
    "        # compute the loss: average cross-entropy loss\n",
    "        \n",
    "\n",
    "        # print loss after each 1000 iterations\n",
    "        if i %1000 == 0: \n",
    "            loss = cost(Y, Yhat, W1, W2, lam)\n",
    "            print(\"iter %d, loss: %f\" %(i, loss))\n",
    "\n",
    "        # backpropagation\n",
    "        E2 = (Yhat - Y )/N\n",
    "        dW2 = np.dot(A1, E2.T) + lam*W2\n",
    "        db2 = np.sum(E2, axis = 1, keepdims = True)\n",
    "        E1 = np.dot(W2, E2)\n",
    "        E1[Z1 <= 0] = 0 # gradient of ReLU \n",
    "        dW1 = np.dot(X, E1.T) + lam*W1\n",
    "        db1 = np.sum(E1, axis = 1, keepdims = True)\n",
    "\n",
    "        # Gradient Descent update \n",
    "        # import pdb; pdb.set_trace()  # breakpoint 47741f63 //\n",
    "        W1 += -eta*dW1 \n",
    "        b1 += -eta*db1 \n",
    "        W2 += -eta*dW2\n",
    "        b2 += -eta*db2 \n",
    "#     return (W1, W2, b1, b2)\n",
    "\n",
    "\n",
    "\n",
    "\n",
    "    Z1 = np.dot(W1.T, X) + b1 \n",
    "    A1 = np.maximum(Z1, 0)\n",
    "    Z2 = np.dot(W2.T, A1) + b2\n",
    "    predicted_class = np.argmax(Z2, axis=0)\n",
    "    acc = (100*np.mean(predicted_class == y))\n",
    "    print('training accuracy: %.2f %%' % acc)\n",
    "\n",
    "\n",
    "    xm = np.arange(-3, 4, 0.025)\n",
    "    xlen = len(xm)\n",
    "    ym = np.arange(-4, 4, 0.025)\n",
    "    ylen = len(ym)\n",
    "    xx, yy = np.meshgrid(xm, ym)\n",
    "\n",
    "    print(np.ones((1, xx.size)).shape)\n",
    "    xx1 = xx.ravel().reshape(1, xx.size)\n",
    "    yy1 = yy.ravel().reshape(1, yy.size)\n",
    "\n",
    "    X0 = np.vstack((xx1, yy1))\n",
    "\n",
    "    Z1 = np.dot(W1.T, X0) + b1 \n",
    "    A1 = np.maximum(Z1, 0)\n",
    "    Z2 = np.dot(W2.T, A1) + b2\n",
    "    # predicted class \n",
    "    Z = np.argmax(Z2, axis=0)\n",
    "\n",
    "    Z = Z.reshape(xx.shape)\n",
    "    CS = plt.contourf(xx, yy, Z, 200, cmap='jet', alpha = .1)\n",
    "\n",
    "    kmeans_display(X.T, original_label.T)\n",
    "\n",
    "    cur_axes = plt.gca()\n",
    "    cur_axes.axes.get_xaxis().set_ticks([])\n",
    "    cur_axes.axes.get_yaxis().set_ticks([])\n",
    "    \n",
    "    plt.title('$\\lambda =$' + str(lam), fontsize = 20)\n",
    "    fn = 'nnet_reg'+ str(lam) + '.png'\n",
    "    plt.savefig(fn, bbox_inches='tight', dpi = 600)\n",
    "    \n",
    "    plt.show()\n",
    "\n",
    "\n",
    "# mynet(0)\n",
    "# mynet(0.1)\n",
    "# mynet(0.01)\n",
    "mynet(0.001)\n",
    "mynet(1)\n"
   ]
  },
  {
   "cell_type": "code",
   "execution_count": null,
   "metadata": {},
   "outputs": [],
   "source": []
  }
 ],
 "metadata": {
  "kernelspec": {
   "display_name": "Python 3",
   "language": "python",
   "name": "python3"
  },
  "language_info": {
   "codemirror_mode": {
    "name": "ipython",
    "version": 3
   },
   "file_extension": ".py",
   "mimetype": "text/x-python",
   "name": "python",
   "nbconvert_exporter": "python",
   "pygments_lexer": "ipython3",
   "version": "3.7.4"
  }
 },
 "nbformat": 4,
 "nbformat_minor": 2
}
