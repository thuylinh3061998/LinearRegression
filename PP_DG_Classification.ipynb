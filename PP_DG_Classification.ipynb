{
 "cells": [
  {
   "cell_type": "code",
   "execution_count": 3,
   "metadata": {},
   "outputs": [
    {
     "name": "stdout",
     "output_type": "stream",
     "text": [
      "accuracy =  0.6\n",
      "accuracy =  0.6\n"
     ]
    }
   ],
   "source": [
    "#Accuracy\n",
    "from __future__ import print_function\n",
    "import numpy as np \n",
    "\n",
    "def acc(y_true, y_pred):\n",
    "    correct = np.sum(y_true == y_pred)\n",
    "#     print(correct)\n",
    "    return float(correct)/y_true.shape[0]\n",
    "\n",
    "y_true = np.array([0, 0, 0, 0, 1, 1, 1, 2, 2, 2])\n",
    "y_pred = np.array([0, 1, 0, 2, 1, 1, 0, 2, 1, 2])\n",
    "print('accuracy = ', acc(y_true, y_pred))\n",
    "\n",
    "from sklearn.metrics import accuracy_score\n",
    "print('accuracy = ',accuracy_score(y_true, y_pred))"
   ]
  },
  {
   "cell_type": "code",
   "execution_count": 19,
   "metadata": {},
   "outputs": [
    {
     "name": "stdout",
     "output_type": "stream",
     "text": [
      "Confusion matrix:\n",
      "[[2. 1. 1.]\n",
      " [1. 2. 0.]\n",
      " [0. 1. 2.]]\n",
      "\n",
      "Accuracy: 0.6\n",
      "\n",
      "Confusion matrix (with normalizatrion:)\n",
      "[[0.5        0.25       0.25      ]\n",
      " [0.33333333 0.66666667 0.        ]\n",
      " [0.         0.33333333 0.66666667]]\n",
      "\n",
      "Confusion matrix:\n",
      "[[2 1 1]\n",
      " [1 2 0]\n",
      " [0 1 2]]\n"
     ]
    }
   ],
   "source": [
    "#Confusion matrix\n",
    "def my_confusion_matrix(y_true, y_pred):\n",
    "    N = np.unique(y_true).shape[0] # number of classes \n",
    "#     print(N)\n",
    "    cm = np.zeros((N, N))\n",
    "#     print(y_true.shape)\n",
    "    for n in range(y_true.shape[0]):\n",
    "        cm[y_true[n], y_pred[n]] += 1\n",
    "#         print(cm)\n",
    "    return cm \n",
    "\n",
    "cnf_matrix = my_confusion_matrix(y_true, y_pred)\n",
    "print('Confusion matrix:')\n",
    "print(cnf_matrix)\n",
    "print('\\nAccuracy:', np.diagonal(cnf_matrix).sum()/cnf_matrix.sum())\n",
    "\n",
    "# print(cnf_matrix.sum(axis = 1))\n",
    "normalized_confusion_matrix = cnf_matrix/cnf_matrix.sum(axis = 1, keepdims = True)\n",
    "print('\\nConfusion matrix (with normalizatrion:)')\n",
    "print(normalized_confusion_matrix)\n",
    "\n",
    "from sklearn.metrics import confusion_matrix\n",
    "cnf_matrix1 = confusion_matrix(y_true, y_pred)\n",
    "print('\\nConfusion matrix:')\n",
    "print(cnf_matrix1)"
   ]
  },
  {
   "cell_type": "code",
   "execution_count": 24,
   "metadata": {},
   "outputs": [
    {
     "ename": "ValueError",
     "evalue": "Unknown format code 'd' for object of type 'float'",
     "output_type": "error",
     "traceback": [
      "\u001b[1;31m---------------------------------------------------------------------------\u001b[0m",
      "\u001b[1;31mValueError\u001b[0m                                Traceback (most recent call last)",
      "\u001b[1;32m<ipython-input-24-e70402bbdfd4>\u001b[0m in \u001b[0;36m<module>\u001b[1;34m\u001b[0m\n\u001b[0;32m     31\u001b[0m \u001b[0mclass_names\u001b[0m \u001b[1;33m=\u001b[0m \u001b[1;33m[\u001b[0m\u001b[1;36m0\u001b[0m\u001b[1;33m,\u001b[0m \u001b[1;36m1\u001b[0m\u001b[1;33m,\u001b[0m \u001b[1;36m2\u001b[0m\u001b[1;33m]\u001b[0m\u001b[1;33m\u001b[0m\u001b[1;33m\u001b[0m\u001b[0m\n\u001b[0;32m     32\u001b[0m \u001b[0mplt\u001b[0m\u001b[1;33m.\u001b[0m\u001b[0mfigure\u001b[0m\u001b[1;33m(\u001b[0m\u001b[1;33m)\u001b[0m\u001b[1;33m\u001b[0m\u001b[1;33m\u001b[0m\u001b[0m\n\u001b[1;32m---> 33\u001b[1;33m \u001b[0mplot_confusion_matrix\u001b[0m\u001b[1;33m(\u001b[0m\u001b[0mcnf_matrix\u001b[0m\u001b[1;33m,\u001b[0m \u001b[0mclasses\u001b[0m\u001b[1;33m=\u001b[0m\u001b[0mclass_names\u001b[0m\u001b[1;33m,\u001b[0m \u001b[0mtitle\u001b[0m\u001b[1;33m=\u001b[0m\u001b[1;34m'Confusion matrix, without normalization'\u001b[0m\u001b[1;33m)\u001b[0m\u001b[1;33m\u001b[0m\u001b[1;33m\u001b[0m\u001b[0m\n\u001b[0m\u001b[0;32m     34\u001b[0m \u001b[1;33m\u001b[0m\u001b[0m\n\u001b[0;32m     35\u001b[0m \u001b[1;31m# Plot normalized confusion matrix\u001b[0m\u001b[1;33m\u001b[0m\u001b[1;33m\u001b[0m\u001b[1;33m\u001b[0m\u001b[0m\n",
      "\u001b[1;32m<ipython-input-24-e70402bbdfd4>\u001b[0m in \u001b[0;36mplot_confusion_matrix\u001b[1;34m(cm, classes, normalize, title, cmap)\u001b[0m\n\u001b[0;32m     22\u001b[0m     \u001b[0mthresh\u001b[0m \u001b[1;33m=\u001b[0m \u001b[0mcm\u001b[0m\u001b[1;33m.\u001b[0m\u001b[0mmax\u001b[0m\u001b[1;33m(\u001b[0m\u001b[1;33m)\u001b[0m \u001b[1;33m/\u001b[0m \u001b[1;36m2.\u001b[0m\u001b[1;33m\u001b[0m\u001b[1;33m\u001b[0m\u001b[0m\n\u001b[0;32m     23\u001b[0m     \u001b[1;32mfor\u001b[0m \u001b[0mi\u001b[0m\u001b[1;33m,\u001b[0m \u001b[0mj\u001b[0m \u001b[1;32min\u001b[0m \u001b[0mitertools\u001b[0m\u001b[1;33m.\u001b[0m\u001b[0mproduct\u001b[0m\u001b[1;33m(\u001b[0m\u001b[0mrange\u001b[0m\u001b[1;33m(\u001b[0m\u001b[0mcm\u001b[0m\u001b[1;33m.\u001b[0m\u001b[0mshape\u001b[0m\u001b[1;33m[\u001b[0m\u001b[1;36m0\u001b[0m\u001b[1;33m]\u001b[0m\u001b[1;33m)\u001b[0m\u001b[1;33m,\u001b[0m \u001b[0mrange\u001b[0m\u001b[1;33m(\u001b[0m\u001b[0mcm\u001b[0m\u001b[1;33m.\u001b[0m\u001b[0mshape\u001b[0m\u001b[1;33m[\u001b[0m\u001b[1;36m1\u001b[0m\u001b[1;33m]\u001b[0m\u001b[1;33m)\u001b[0m\u001b[1;33m)\u001b[0m\u001b[1;33m:\u001b[0m\u001b[1;33m\u001b[0m\u001b[1;33m\u001b[0m\u001b[0m\n\u001b[1;32m---> 24\u001b[1;33m         \u001b[0mplt\u001b[0m\u001b[1;33m.\u001b[0m\u001b[0mtext\u001b[0m\u001b[1;33m(\u001b[0m\u001b[0mj\u001b[0m\u001b[1;33m,\u001b[0m \u001b[0mi\u001b[0m\u001b[1;33m,\u001b[0m \u001b[0mformat\u001b[0m\u001b[1;33m(\u001b[0m\u001b[0mcm\u001b[0m\u001b[1;33m[\u001b[0m\u001b[0mi\u001b[0m\u001b[1;33m,\u001b[0m \u001b[0mj\u001b[0m\u001b[1;33m]\u001b[0m\u001b[1;33m,\u001b[0m \u001b[0mfmt\u001b[0m\u001b[1;33m)\u001b[0m\u001b[1;33m,\u001b[0m \u001b[0mhorizontalalignment\u001b[0m\u001b[1;33m=\u001b[0m\u001b[1;34m\"center\"\u001b[0m\u001b[1;33m,\u001b[0m \u001b[0mcolor\u001b[0m\u001b[1;33m=\u001b[0m\u001b[1;34m\"white\"\u001b[0m \u001b[1;32mif\u001b[0m \u001b[0mcm\u001b[0m\u001b[1;33m[\u001b[0m\u001b[0mi\u001b[0m\u001b[1;33m,\u001b[0m \u001b[0mj\u001b[0m\u001b[1;33m]\u001b[0m \u001b[1;33m>\u001b[0m \u001b[0mthresh\u001b[0m \u001b[1;32melse\u001b[0m \u001b[1;34m\"black\"\u001b[0m\u001b[1;33m)\u001b[0m\u001b[1;33m\u001b[0m\u001b[1;33m\u001b[0m\u001b[0m\n\u001b[0m\u001b[0;32m     25\u001b[0m \u001b[1;33m\u001b[0m\u001b[0m\n\u001b[0;32m     26\u001b[0m     \u001b[0mplt\u001b[0m\u001b[1;33m.\u001b[0m\u001b[0mtight_layout\u001b[0m\u001b[1;33m(\u001b[0m\u001b[1;33m)\u001b[0m\u001b[1;33m\u001b[0m\u001b[1;33m\u001b[0m\u001b[0m\n",
      "\u001b[1;31mValueError\u001b[0m: Unknown format code 'd' for object of type 'float'"
     ]
    },
    {
     "data": {
      "image/png": "[encoded data removed]",
      "text/plain": [
       "<Figure size 432x288 with 2 Axes>"
      ]
     },
     "metadata": {
      "needs_background": "light"
     },
     "output_type": "display_data"
    }
   ],
   "source": [
    "import matplotlib.pyplot as plt\n",
    "import itertools\n",
    "def plot_confusion_matrix(cm, classes,\n",
    "                          normalize=False,\n",
    "                          title='Confusion matrix',\n",
    "                          cmap=plt.cm.Blues):\n",
    "    \"\"\"\n",
    "    This function prints and plots the confusion matrix.\n",
    "    Normalization can be applied by setting `normalize=True`.\n",
    "    \"\"\"\n",
    "    if normalize:\n",
    "        cm = cm.astype('float') / cm.sum(axis=1, keepdims = True)\n",
    "\n",
    "    plt.imshow(cm, interpolation='nearest', cmap=cmap)\n",
    "    plt.title(title)\n",
    "    plt.colorbar()\n",
    "    tick_marks = np.arange(len(classes))\n",
    "    plt.xticks(tick_marks, classes, rotation=45)\n",
    "    plt.yticks(tick_marks, classes)\n",
    "\n",
    "    fmt = '.2f' if normalize else 'd'\n",
    "    thresh = cm.max() / 2.\n",
    "    for i, j in itertools.product(range(cm.shape[0]), range(cm.shape[1])):\n",
    "        plt.text(j, i, format(cm[i, j], fmt), horizontalalignment=\"center\", color=\"white\" if cm[i, j] > thresh else \"black\")\n",
    "\n",
    "    plt.tight_layout()\n",
    "    plt.ylabel('True label')\n",
    "    plt.xlabel('Predicted label')\n",
    "\n",
    "# Plot non-normalized confusion matrix\n",
    "class_names = [0, 1, 2]\n",
    "plt.figure()\n",
    "plot_confusion_matrix(cnf_matrix, classes=class_names, title='Confusion matrix, without normalization')\n",
    "\n",
    "# Plot normalized confusion matrix\n",
    "plt.figure()\n",
    "plot_confusion_matrix(cnf_matrix, classes=class_names, normalize=True, title='Normalized confusion matrix')\n",
    "\n",
    "plt.show()"
   ]
  },
  {
   "cell_type": "code",
   "execution_count": 31,
   "metadata": {},
   "outputs": [
    {
     "name": "stdout",
     "output_type": "stream",
     "text": [
      "[0.09978219 0.27775451 0.28128501 0.29528535 0.48965938 0.0318059\n",
      " 0.17074865 0.4379076  0.23551394 0.41485355 0.05481794 0.45180614\n",
      " 0.14017706 0.3565125  0.41266182 0.47293541 0.05627431 0.25135777\n",
      " 0.19773978 0.07777025]\n",
      "[0 0 0 0 0 0 0 0 0 0 0 0 0 0 0 0 0 0 0 0]\n",
      "[0.2394597  0.43639408 0.57538939 0.28109068 0.48406893 0.37607461\n",
      " 0.34398138 0.54766213 0.5043536  0.6089827  0.4503909  0.31784765\n",
      " 0.5096162  0.36701543 0.57764673 0.59474694 0.56556082 0.4848092\n",
      " 0.41901752 0.58066508 0.51921429 0.25065542 0.31728995 0.44716329\n",
      " 0.58808325 0.22475069 0.55277863 0.63608754 0.30611773 0.55786114]\n",
      "True labels:\n",
      "[0 0 0 0 0 0 0 0 0 0 0 0 0 0 0 0 0 0 0 0 1 1 1 1 1 1 1 1 1 1 1 1 1 1 1 1 1\n",
      " 1 1 1 1 1 1 1 1 1 1 1 1 1]\n",
      "\n",
      "Scores:\n",
      "[0.09978219 0.27775451 0.28128501 0.29528535 0.48965938 0.0318059\n",
      " 0.17074865 0.4379076  0.23551394 0.41485355 0.05481794 0.45180614\n",
      " 0.14017706 0.3565125  0.41266182 0.47293541 0.05627431 0.25135777\n",
      " 0.19773978 0.07777025 0.2394597  0.43639408 0.57538939 0.28109068\n",
      " 0.48406893 0.37607461 0.34398138 0.54766213 0.5043536  0.6089827\n",
      " 0.4503909  0.31784765 0.5096162  0.36701543 0.57764673 0.59474694\n",
      " 0.56556082 0.4848092  0.41901752 0.58066508 0.51921429 0.25065542\n",
      " 0.31728995 0.44716329 0.58808325 0.22475069 0.55277863 0.63608754\n",
      " 0.30611773 0.55786114]\n"
     ]
    }
   ],
   "source": [
    "#ROC curve \n",
    "# generate simulated data\n",
    "n0, n1 = 20, 30\n",
    "score0 = np.random.rand(n0)/2\n",
    "print(score0)\n",
    "label0 = np.zeros(n0, dtype = int)\n",
    "print(label0)\n",
    "score1  = np.random.rand(n1)/2 + .2\n",
    "print(score1)\n",
    "label1 = np.ones(n1, dtype = int)\n",
    "scores = np.concatenate((score0, score1))\n",
    "y_true = np.concatenate((label0, label1))\n",
    "\n",
    "print('True labels:')\n",
    "print(y_true)\n",
    "print('\\nScores:')\n",
    "print(scores)"
   ]
  },
  {
   "cell_type": "code",
   "execution_count": 37,
   "metadata": {
    "scrolled": true
   },
   "outputs": [
    {
     "name": "stdout",
     "output_type": "stream",
     "text": [
      "Thresholds:\n",
      "[1.63608754 0.63608754 0.5043536  0.48965938 0.48406893 0.45180614\n",
      " 0.44716329 0.4379076  0.41901752 0.41266182 0.36701543 0.3565125\n",
      " 0.30611773 0.28128501 0.28109068 0.25135777 0.2394597  0.23551394\n",
      " 0.22475069 0.0318059 ]\n",
      "False Positive Rate:\n",
      "[0.   0.   0.   0.05 0.05 0.15 0.15 0.2  0.2  0.3  0.3  0.35 0.35 0.45\n",
      " 0.45 0.55 0.55 0.6  0.6  1.  ]\n",
      "True Positive Rate:\n",
      "[0.         0.03333333 0.46666667 0.46666667 0.53333333 0.53333333\n",
      " 0.6        0.6        0.66666667 0.66666667 0.73333333 0.73333333\n",
      " 0.86666667 0.86666667 0.9        0.9        0.96666667 0.96666667\n",
      " 1.         1.        ]\n"
     ]
    }
   ],
   "source": [
    "from sklearn.metrics import roc_curve, auc\n",
    "fpr, tpr, thresholds = roc_curve(y_true, scores, pos_label = 1)\n",
    "print('Thresholds:')\n",
    "print(thresholds)\n",
    "print('False Positive Rate:')\n",
    "print(fpr)\n",
    "print('True Positive Rate:')\n",
    "print(tpr)"
   ]
  },
  {
   "cell_type": "code",
   "execution_count": 41,
   "metadata": {},
   "outputs": [
    {
     "name": "stdout",
     "output_type": "stream",
     "text": [
      "[100.  10.]\n",
      "120.0\n",
      "110.0\n",
      "precition = 0.83, recall = 0.91\n"
     ]
    }
   ],
   "source": [
    "#Precision và Recall\n",
    "from __future__ import print_function\n",
    "import numpy as np \n",
    "# confusion matrix to precision + recall\n",
    "def cm2pr_binary(cm):\n",
    "    p = cm[0,0]/np.sum(cm[:,0])\n",
    "    r = cm[0,0]/np.sum(cm[0])\n",
    "    return (p, r)\n",
    "\n",
    "# example of a confusion matrix for binary classification problem \n",
    "cm = np.array([[100., 10], [20, 70]])\n",
    "p,r = cm2pr_binary(cm)\n",
    "print(\"precition = {0:.2f}, recall = {1:.2f}\".format(p, r))"
   ]
  },
  {
   "cell_type": "code",
   "execution_count": 45,
   "metadata": {},
   "outputs": [
    {
     "name": "stdout",
     "output_type": "stream",
     "text": [
      "(P1, R1) = (0.67, 0.77)\n",
      "(P2, R2) = (0.71, 0.63)\n",
      "(P3, R3) = (0.93, 0.71)\n",
      "(micro_ap, micro_ar) = (0.79, 0.75)\n",
      "(micro_ap, micro_ar) = (0.77, 0.70)\n"
     ]
    }
   ],
   "source": [
    "#Micro-average\n",
    "tp1, fp1, fn1 = 10, 5, 3\n",
    "tp2, fp2, fn2 = 17, 7, 10\n",
    "tp3, fp3, fn3 = 25, 2, 4 \n",
    "# from __future__ import print_function\n",
    "def PR(tp, fp, fn):\n",
    "    P = float(tp)/(tp + fp)\n",
    "    R = float(tp)/(tp + fn)\n",
    "    return (P, R)\n",
    "\n",
    "(P1, R1) = PR(tp1, fp1, fn1)\n",
    "(P2, R2) = PR(tp2, fp2, fn2)\n",
    "(P3, R3) = PR(tp3, fp3, fn2)\n",
    "\n",
    "print('(P1, R1) = (%.2f, %.2f)'%(P1, R1))\n",
    "print('(P2, R2) = (%.2f, %.2f)'%(P2, R2))\n",
    "print('(P3, R3) = (%.2f, %.2f)'%(P3, R3))\n",
    "\n",
    "total_tp = tp1 + tp2 + tp3\n",
    "total_fp = fp1 + fp2 + fp3 \n",
    "total_fn = fn1 + fn2 + fn3 \n",
    "micro_ap = float(total_tp)/(total_tp + total_fp)\n",
    "micro_ar = float(total_tp)/(total_tp + total_fn)\n",
    "print('(micro_ap, micro_ar) = (%.2f, %.2f)' % (micro_ap, micro_ar))\n",
    "\n",
    "macro_ap = (P1 + P2 + P3)/3\n",
    "macro_ar = (R1 + R2 + R3)/3\n",
    "print('(micro_ap, micro_ar) = (%.2f, %.2f)' % (macro_ap, macro_ar))"
   ]
  },
  {
   "cell_type": "code",
   "execution_count": null,
   "metadata": {},
   "outputs": [],
   "source": []
  }
 ],
 "metadata": {
  "kernelspec": {
   "display_name": "Python 3",
   "language": "python",
   "name": "python3"
  },
  "language_info": {
   "codemirror_mode": {
    "name": "ipython",
    "version": 3
   },
   "file_extension": ".py",
   "mimetype": "text/x-python",
   "name": "python",
   "nbconvert_exporter": "python",
   "pygments_lexer": "ipython3",
   "version": "3.7.4"
  }
 },
 "nbformat": 4,
 "nbformat_minor": 2
}
